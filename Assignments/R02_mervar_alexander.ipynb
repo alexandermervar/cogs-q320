{
 "cells": [
  {
   "cell_type": "markdown",
   "metadata": {},
   "source": [
    "# R02 Scientific Computation: Numerical Arrays with Numpy"
   ]
  },
  {
   "cell_type": "markdown",
   "metadata": {},
   "source": [
    "Alexander Mervar  \n",
    "2.1.2021  \n",
    "COGS-Q 320"
   ]
  },
  {
   "cell_type": "markdown",
   "metadata": {},
   "source": [
    "Link: [https://numpy.org/doc/stable/user/quickstart.html](https://numpy.org/doc/stable/user/quickstart.html)"
   ]
  },
  {
   "cell_type": "markdown",
   "metadata": {},
   "source": [
    "### The Basics"
   ]
  },
  {
   "cell_type": "code",
   "execution_count": 2,
   "metadata": {},
   "outputs": [
    {
     "name": "stdout",
     "output_type": "stream",
     "text": [
      "[[ 0  1  2  3  4]\n",
      " [ 5  6  7  8  9]\n",
      " [10 11 12 13 14]\n",
      " [15 16 17 18 19]\n",
      " [20 21 22 23 24]]\n"
     ]
    }
   ],
   "source": [
    "import numpy as np\n",
    "a = np.arange(25).reshape(5,5)\n",
    "print(a)"
   ]
  },
  {
   "cell_type": "markdown",
   "metadata": {},
   "source": [
    "### Array Creation"
   ]
  },
  {
   "cell_type": "code",
   "execution_count": 5,
   "metadata": {},
   "outputs": [
    {
     "name": "stdout",
     "output_type": "stream",
     "text": [
      "[2 3 4]\n",
      "[[0. 0. 0. 0.]\n",
      " [0. 0. 0. 0.]\n",
      " [0. 0. 0. 0.]]\n"
     ]
    }
   ],
   "source": [
    "a = np.array([2,3,4])\n",
    "print(a)\n",
    "print(np.zeros((3,4)))"
   ]
  },
  {
   "cell_type": "markdown",
   "metadata": {},
   "source": [
    "### Printing Arrays"
   ]
  },
  {
   "cell_type": "markdown",
   "metadata": {},
   "source": [
    "See above for printing"
   ]
  },
  {
   "cell_type": "markdown",
   "metadata": {},
   "source": [
    "### Basic Operations"
   ]
  },
  {
   "cell_type": "code",
   "execution_count": 11,
   "metadata": {},
   "outputs": [
    {
     "name": "stdout",
     "output_type": "stream",
     "text": [
      "[  0.  10.  20.  30.  40.  50.  60.  70.  80.  90. 100.]\n",
      "\n",
      "[ 0  1  2  3  4  5  6  7  8  9 10]\n",
      "\n",
      "[ 0.  9. 18. 27. 36. 45. 54. 63. 72. 81. 90.]\n"
     ]
    }
   ],
   "source": [
    "a = np.linspace(0, 100, 11)\n",
    "b = np.arange(11)\n",
    "print(a)\n",
    "print()\n",
    "print(b)\n",
    "print()\n",
    "print(a-b)"
   ]
  },
  {
   "cell_type": "markdown",
   "metadata": {},
   "source": [
    "### Note:\n",
    "The next few sections were pretty trivial so I skipped them to move to more uncomfortable areas that I needed more"
   ]
  },
  {
   "cell_type": "markdown",
   "metadata": {},
   "source": [
    "## Changing the Shape of an Array"
   ]
  },
  {
   "cell_type": "code",
   "execution_count": 16,
   "metadata": {},
   "outputs": [
    {
     "name": "stdout",
     "output_type": "stream",
     "text": [
      "(3, 4)\n",
      "\n",
      "[5. 9. 1. 9. 3. 4. 8. 4. 5. 0. 7. 5.]\n",
      "\n",
      "[[5. 9.]\n",
      " [1. 9.]\n",
      " [3. 4.]\n",
      " [8. 4.]\n",
      " [5. 0.]\n",
      " [7. 5.]]\n"
     ]
    }
   ],
   "source": [
    "rg = np.random.default_rng(1)\n",
    "a = np.floor(10*rg.random((3,4)))\n",
    "print(a.shape)\n",
    "print()\n",
    "# Flatten the array\n",
    "print(a.ravel())\n",
    "print()\n",
    "# Reshape the array to whatever dimensions desired\n",
    "# print(a.reshape(7,2))\n",
    "# print(a.reshape(6,1))\n",
    "# Cannot reshape to an array size with difference in elements\n",
    "print(a.reshape(6,2))"
   ]
  },
  {
   "cell_type": "markdown",
   "metadata": {},
   "source": [
    "### Copies"
   ]
  },
  {
   "cell_type": "markdown",
   "metadata": {},
   "source": [
    "A shallow copy does not allow you to work with the copy instead, it acts as a view. With a deep copy using the <code>.copy</code> method, you get a seperate array looking at different data that has the same data in the cells."
   ]
  },
  {
   "cell_type": "markdown",
   "metadata": {},
   "source": [
    "### Less Basic"
   ]
  },
  {
   "cell_type": "code",
   "execution_count": 19,
   "metadata": {},
   "outputs": [
    {
     "data": {
      "text/plain": [
       "array([[0, 1, 2, 3],\n",
       "       [4, 0, 0, 0],\n",
       "       [0, 0, 0, 0]])"
      ]
     },
     "execution_count": 19,
     "metadata": {},
     "output_type": "execute_result"
    }
   ],
   "source": [
    "a = np.arange(12).reshape(3,4)\n",
    "b = a > 4\n",
    "b                                          # b is a boolean with a's shape\n",
    "# array([[False, False, False, False],\n",
    "#       [False,  True,  True,  True],\n",
    "#       [ True,  True,  True,  True]])\n",
    "a[b]                                       # 1d array with the selected elements\n",
    "# array([ 5,  6,  7,  8,  9, 10, 11])\n",
    "\n",
    "a[b] = 0                                   # All elements of 'a' higher than 4 become 0\n",
    "a\n",
    "# array([[0, 1, 2, 3],\n",
    "#       [4, 0, 0, 0],\n",
    "#       [0, 0, 0, 0]])"
   ]
  },
  {
   "cell_type": "markdown",
   "metadata": {},
   "source": [
    "### The ix_() Function"
   ]
  },
  {
   "cell_type": "markdown",
   "metadata": {},
   "source": [
    "I was confused by this function and would like it explained in class"
   ]
  },
  {
   "cell_type": "markdown",
   "metadata": {},
   "source": [
    "### The Remainder of this tutorial was trivial"
   ]
  },
  {
   "cell_type": "markdown",
   "metadata": {},
   "source": [
    "## Notes"
   ]
  },
  {
   "cell_type": "markdown",
   "metadata": {},
   "source": [
    "\n",
    "- **Ask about the ix_() function in class**\n"
   ]
  }
 ],
 "metadata": {
  "kernelspec": {
   "display_name": "Python 3",
   "language": "python",
   "name": "python3"
  },
  "language_info": {
   "codemirror_mode": {
    "name": "ipython",
    "version": 3
   },
   "file_extension": ".py",
   "mimetype": "text/x-python",
   "name": "python",
   "nbconvert_exporter": "python",
   "pygments_lexer": "ipython3",
   "version": "3.8.5"
  }
 },
 "nbformat": 4,
 "nbformat_minor": 4
}
