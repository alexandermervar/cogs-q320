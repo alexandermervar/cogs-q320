{
 "cells": [
  {
   "cell_type": "markdown",
   "metadata": {},
   "source": [
    "## A07: Evolutionary Algorithm"
   ]
  },
  {
   "cell_type": "code",
   "execution_count": 1,
   "metadata": {},
   "outputs": [],
   "source": [
    "import numpy as np\n",
    "import matplotlib.pyplot as plt\n",
    "import math"
   ]
  },
  {
   "cell_type": "markdown",
   "metadata": {},
   "source": [
    "This is the evolutionary algorithm class developed on the lectures. This algorithm works for real-valued problems. Feel free to use it, extend it, modify it, or create your own."
   ]
  },
  {
   "cell_type": "code",
   "execution_count": 2,
   "metadata": {},
   "outputs": [],
   "source": [
    "class MicrobialGA():\n",
    "    \n",
    "    def __init__(self, fitnessFunction, popsize, genesize, recombProb, mutatStd):\n",
    "        self.fitnessFunction = fitnessFunction\n",
    "        self.popsize = popsize\n",
    "        self.genesize = genesize\n",
    "        self.recombProb = recombProb\n",
    "        self.mutatStd = mutatStd \n",
    "        self.pop = np.random.rand(popsize,genesize)*2 - 1\n",
    "        \n",
    "    def best(self):\n",
    "        bestfit = 0\n",
    "        for i in range(self.popsize):\n",
    "            fit = self.fitnessFunction(self.pop[i])\n",
    "            if fit > bestfit:\n",
    "                bestfit = fit\n",
    "        return bestfit\n",
    "                    \n",
    "    def runTournament(self):\n",
    "\n",
    "        # Step 1: Pick 2 individuals at random from the population\n",
    "        a = np.random.randint(self.popsize)\n",
    "        b = np.random.randint(self.popsize)\n",
    "        while (a==b):   # Make sure they are two different individuals\n",
    "            b = np.random.randint(self.popsize)\n",
    "\n",
    "        # Step 2: Compare their fitness\n",
    "        if (self.fitnessFunction(self.pop[a]) > self.fitnessFunction(self.pop[b])):\n",
    "            winner = a\n",
    "            loser = b\n",
    "        else:\n",
    "            winner = b\n",
    "            loser = a\n",
    "\n",
    "        # Step 3: Transfect loser with winner\n",
    "        for gene in range(self.genesize):\n",
    "            if (np.random.random() < self.recombProb):\n",
    "                self.pop[loser][gene] = self.pop[winner][gene]\n",
    "\n",
    "        # Step 4: Mutate loser and Make sure new organism stays within bounds\n",
    "        self.pop[loser] += np.random.normal(0.0,self.mutatStd,size=self.genesize)\n",
    "        self.pop[loser] = np.clip(self.pop[loser],-1,1)"
   ]
  },
  {
   "cell_type": "markdown",
   "metadata": {},
   "source": [
    "This code exemplifies how to use the class by getting it to solve a very trivial problem: the maximization of ones in a genotype of 10 values. Note we have to create our own fitness function that solves the problem at hand. Note that this fitness function maximizes the number of ones in a genotype because each gene can only take a value between -1 and 1.\n",
    "We use a population size of 50 individuals. We will pick a recombination probability of 50% and a mutation standard deviation of 0.1. We run the algorithm for 100 generations, where each generation entails running as many tournaments as there are individuals in the population. To make sure that the optimization is working, we visualize the best fitness in the population over time."
   ]
  },
  {
   "cell_type": "code",
   "execution_count": 3,
   "metadata": {},
   "outputs": [
    {
     "data": {
      "image/png": "[encoded data removed]",
      "text/plain": [
       "<Figure size 432x288 with 1 Axes>"
      ]
     },
     "metadata": {
      "needs_background": "light"
     },
     "output_type": "display_data"
    }
   ],
   "source": [
    "genesize = 10\n",
    "popsize = 50\n",
    "recombProb = 0.5\n",
    "mutatProb = 0.1\n",
    "generations = 100\n",
    "\n",
    "def fitnessFunction(genotype):\n",
    "    return np.sum(genotype)\n",
    "\n",
    "ga = MicrobialGA(fitnessFunction, popsize, genesize, recombProb, mutatProb)\n",
    "\n",
    "bestfithist = np.zeros(generations)\n",
    "\n",
    "for i in range(generations):\n",
    "    for j in range(popsize):\n",
    "        ga.runTournament()\n",
    "    bestfithist[i] = ga.best()\n",
    "\n",
    "plt.plot(bestfithist)\n",
    "plt.ylabel(\"Best fitness\")\n",
    "plt.xlabel(\"Generation\")\n",
    "plt.show()"
   ]
  },
  {
   "cell_type": "markdown",
   "metadata": {},
   "source": [
    "1. (6 points) Write some code to find the solution to the Ackley Function (https://en.wikipedia.org/wiki/Ackley_function). Note that the function is a minimization problem. Meaning solutions with lower value are better than solutions with larger values. Note also that the Ackley function receives two parameters and gives you a value. The two parameters that the function takes (x and y) will be the genotype. The result of the function will be the fitness. We know the solution should be f(0,0)=0. So your evolutionary algorithm should find a genotype that approximates the genotype 0,0."
   ]
  },
  {
   "cell_type": "code",
   "execution_count": 4,
   "metadata": {},
   "outputs": [],
   "source": [
    "class ackleyGA():\n",
    "    \n",
    "    def __init__(self, fitnessFunction, popsize, genesize, recombProb, mutatStd):\n",
    "        self.fitnessFunction = fitnessFunction\n",
    "        self.popsize = popsize\n",
    "        self.genesize = genesize\n",
    "        self.recombProb = recombProb\n",
    "        self.mutatStd = mutatStd \n",
    "        self.pop = np.random.rand(popsize,genesize)*200 - 100\n",
    "        \n",
    "    def best(self):\n",
    "        bestfit = 1000000\n",
    "        for i in range(self.popsize):\n",
    "            fit = self.fitnessFunction(self.pop[i])\n",
    "            if fit < bestfit:\n",
    "                bestfit = fit\n",
    "        return bestfit\n",
    "    \n",
    "    def best2(self):\n",
    "        bestfit = 1000000\n",
    "        x = 1000000\n",
    "        y = 1000000\n",
    "        for i in range(self.popsize):\n",
    "            fit = self.fitnessFunction(self.pop[i])\n",
    "            if fit < bestfit:\n",
    "                x = self.pop[i][0]\n",
    "                y = self.pop[i][1]\n",
    "        return x,y\n",
    "                    \n",
    "    def runTournament(self):\n",
    "\n",
    "        # Step 1: Pick 2 individuals at random from the population\n",
    "        a = np.random.randint(self.popsize)\n",
    "        b = np.random.randint(self.popsize)\n",
    "        while (a==b):   # Make sure they are two different individuals\n",
    "            b = np.random.randint(self.popsize)\n",
    "\n",
    "        # Step 2: Compare their fitness\n",
    "        if (self.fitnessFunction(self.pop[a]) < self.fitnessFunction(self.pop[b])):\n",
    "            winner = a\n",
    "            loser = b\n",
    "        else:\n",
    "            winner = b\n",
    "            loser = a\n",
    "\n",
    "        # Step 3: Transfect loser with winner\n",
    "        for gene in range(self.genesize):\n",
    "            if (np.random.random() < self.recombProb):\n",
    "                self.pop[loser][gene] = self.pop[winner][gene]\n",
    "\n",
    "        # Step 4: Mutate loser and Make sure new organism stays within bounds\n",
    "        self.pop[loser] += np.random.normal(0.0,self.mutatStd,size=self.genesize)\n",
    "        self.pop[loser] = np.clip(self.pop[loser],-1,1)"
   ]
  },
  {
   "cell_type": "code",
   "execution_count": 5,
   "metadata": {},
   "outputs": [
    {
     "data": {
      "image/png": "[encoded data removed]",
      "text/plain": [
       "<Figure size 432x288 with 1 Axes>"
      ]
     },
     "metadata": {
      "needs_background": "light"
     },
     "output_type": "display_data"
    },
    {
     "name": "stdout",
     "output_type": "stream",
     "text": [
      "(0.005384124650427424, -0.001618446235394505)\n"
     ]
    }
   ],
   "source": [
    "genesize = 2\n",
    "popsize = 50\n",
    "recombProb = 0.5\n",
    "mutatProb = 0.1\n",
    "generations = 2000\n",
    "\n",
    "def fitnessFunction(genotype):\n",
    "    x1 = genotype[0]\n",
    "    x2 = genotype[1]\n",
    "    #returns the point value of the given coordinate\n",
    "    part_1 = -0.2*math.sqrt(0.5*(x1*x1 + x2*x2))\n",
    "    part_2 = 0.5*(math.cos(2*math.pi*x1) + math.cos(2*math.pi*x2))\n",
    "    value = math.exp(1) + 20 -20*math.exp(part_1) - math.exp(part_2)\n",
    "    #returning the value\n",
    "    return value\n",
    "    \n",
    "ackley = ackleyGA(fitnessFunction, popsize, genesize, recombProb, mutatProb)\n",
    "\n",
    "bestfithist = np.zeros(generations)\n",
    "\n",
    "for i in range(generations):\n",
    "    for j in range(popsize):\n",
    "        ackley.runTournament()\n",
    "    bestfithist[i] = ackley.best()\n",
    "\n",
    "plt.plot(bestfithist)\n",
    "plt.ylabel(\"Best fitness\")\n",
    "plt.xlabel(\"Generation\")\n",
    "plt.show()\n",
    "\n",
    "print(ackley.best2())"
   ]
  },
  {
   "cell_type": "markdown",
   "metadata": {},
   "source": [
    "**As you can see, the function approaches (0,0) as intended. The values below the graph are the final coordiantes of the best function upon the final generation. I found that inncreasing the number of generations brings us closer to (0,0) but the amount of time it takes to complete those computations using my process isnn't worth it for the demonstrations, here.**"
   ]
  },
  {
   "cell_type": "markdown",
   "metadata": {},
   "source": [
    "2. (6 points) Write some code to find the solution to the Card Problem. You have 10 cards numbered from 1 to 10. You have to choose a way of dividing them into 2 piles, so that the cards in first pile sum to a number as close as possible to 36, and the remaining cards in the second pile multiply to a number as close as possible to 360. Note that you have to figure out what the best genotype encoding is for this problem. Also, importantly, note that the algorithm provided works best for real-valued genotypes. The genotype for this problem will most likely need to be a discrete genotype (0s and 1s) or something similar. You might have to copy and paste the evolutionary algorithm class and make some changes to it to accomodate this change from real values to discrete values. Hint: The main thing that changes is the initialization of the population and the mutation operation. Instead of adding random values to every real-value, you might want to flip some 0s to 1s and some 1s to 0s here and there at random. In addition to solving the problem, tell us: how did you encode the solutions in the genotype? and what fitness function did you use? Did the evolutionary algorithm find the correct optimal answer? What was the answer to the problem? "
   ]
  },
  {
   "cell_type": "code",
   "execution_count": 6,
   "metadata": {},
   "outputs": [],
   "source": [
    "class cardsGA():\n",
    "    \n",
    "    def __init__(self, popsize, genesize, recombProb, mutatStd, sumGoal, prodGoal, generations):\n",
    "        self.popsize = popsize\n",
    "        self.genesize = genesize\n",
    "        self.recombProb = recombProb\n",
    "        self.mutatStd = mutatStd \n",
    "        self.pop = np.random.randint(2, size=(popsize, genesize))\n",
    "        self.sumGoal = sumGoal\n",
    "        self.prodGoal = prodGoal\n",
    "        self.generations = generations\n",
    "        \n",
    "    def share(self, n, tournum):\n",
    "        calcSum = 0\n",
    "        calcProd = 1\n",
    "        print(\"The Result was Calculated by tourney: \" + str(tournum))\n",
    "        print()\n",
    "        print(\"The best card deck configuration is the following:\")\n",
    "        print()\n",
    "        print(\"Deck 1 (Sum Deck) with total:\")\n",
    "        for i in range(0, self.genesize):\n",
    "            if self.pop[n][i] == 0:\n",
    "              print(i+1)\n",
    "              calcSum += i+1\n",
    "        print(\"Sum: \" + str(calcSum))\n",
    "        \n",
    "        print(\"Deck 2 (Product Deck):\")\n",
    "        for i in range(0, self.genesize):\n",
    "            if self.pop[n][i] == 1:\n",
    "                print(i+1)\n",
    "                calcProd *= i+1\n",
    "        print(\"prod: \" + str(calcProd))\n",
    "                \n",
    "    def runTournament(self):\n",
    "        for tourneyNumber in range(generations):\n",
    "            # Step 1: Pick 2 individuals at random from the population\n",
    "            a = np.random.randint(self.popsize)\n",
    "            b = np.random.randint(self.popsize)\n",
    "            while (a==b):   # Make sure they are two different individuals\n",
    "                b = np.random.randint(self.popsize)\n",
    "\n",
    "            # Step 2: Compare their fitness\n",
    "            if (self.fitnessFunction(a) < self.fitnessFunction(b)):\n",
    "                winner = a\n",
    "                loser = b\n",
    "            else:\n",
    "                winner = b\n",
    "                loser = a\n",
    "    \n",
    "            # Step 3: Transfect loser with winner\n",
    "            for gene in range(self.genesize):\n",
    "                if (np.random.random() < self.recombProb):\n",
    "                    self.pop[loser][gene] = self.pop[winner][gene]\n",
    "\n",
    "            # Step 4: Mutate loser and Make sure new organism stays within bounds\n",
    "                if np.random.random() < self.mutatStd:\n",
    "                    self.pop[loser][gene] = 1 - self.pop[loser][gene]\n",
    "                \n",
    "            if self.fitnessFunction(loser) == 0.0:\n",
    "                self.share(loser, tourneyNumber)\n",
    "                break\n",
    "                \n",
    "    def fitnessFunction(self, n):\n",
    "        calculatedSum = 0\n",
    "        calculatedProd = 1\n",
    "        \n",
    "        for i in range(0, self.genesize):\n",
    "            if self.pop[n][i] == 0:\n",
    "                calculatedSum += (1 + i)\n",
    "            else:\n",
    "                calculatedProd *= 1 + i\n",
    "        \n",
    "        scaledSumError = (calculatedSum - self.sumGoal) / self.sumGoal\n",
    "        scaledProdError = (calculatedProd - self.prodGoal) / self.prodGoal\n",
    "        combinedError = math.fabs(scaledSumError) + math.fabs(scaledProdError)\n",
    "           \n",
    "        return combinedError"
   ]
  },
  {
   "cell_type": "code",
   "execution_count": 7,
   "metadata": {},
   "outputs": [
    {
     "name": "stdout",
     "output_type": "stream",
     "text": [
      "The Result was Calculated by tourney: 1428\n",
      "\n",
      "The best card deck configuration is the following:\n",
      "\n",
      "Deck 1 (Sum Deck) with total:\n",
      "2\n",
      "7\n",
      "8\n",
      "9\n",
      "10\n",
      "Sum: 36\n",
      "Deck 2 (Product Deck):\n",
      "1\n",
      "3\n",
      "4\n",
      "5\n",
      "6\n",
      "prod: 360\n"
     ]
    }
   ],
   "source": [
    "genesize = 10\n",
    "popsize = 30\n",
    "recombProb = 0.5\n",
    "mutatProb = 0.1\n",
    "generations = 2000\n",
    "sumGoal = 36\n",
    "prodGoal = 360\n",
    "            \n",
    "    \n",
    "cards = cardsGA(popsize, genesize, recombProb, mutatProb, sumGoal, prodGoal, generations)\n",
    "\n",
    "cards.runTournament()"
   ]
  },
  {
   "cell_type": "markdown",
   "metadata": {},
   "source": [
    "3. (9 points) Open-ended problem. The main two parameters of an evolutionary algorithm are its mutation operator and its recombination operator. Pick one (or if you are ambitious you can do the study for both) and understand the effect that the parameter has on the efficiency of the evolutionary algorithm. So, for example, the question that we are asking is: For the Ackley function, does a large mutation or a small mutation work best to find the solution quickest? Is there a sweetspot? Does a little recombination, medium, or lots of recombination work best? Does recombination help at all? What happens if we set it to 0? Or to 1.0? Is there a sweetspot? I used the Ackley function as an example, but you are welcome to explore any other problem (there are lots of functions here: https://en.wikipedia.org/wiki/Test_functions_for_optimization). Find a way to visualize the results of your experiments and to interpret your results. "
   ]
  },
  {
   "cell_type": "code",
   "execution_count": 8,
   "metadata": {},
   "outputs": [],
   "source": [
    "class cardsGA2():\n",
    "    \n",
    "    def __init__(self, popsize, genesize, recombProb, mutatStd, sumGoal, prodGoal, generations):\n",
    "        self.popsize = popsize\n",
    "        self.genesize = genesize\n",
    "        self.recombProb = recombProb\n",
    "        self.mutatStd = mutatStd \n",
    "        self.pop = np.random.randint(2, size=(popsize, genesize))\n",
    "        self.sumGoal = sumGoal\n",
    "        self.prodGoal = prodGoal\n",
    "        self.generations = generations\n",
    "                        \n",
    "    def runTournament(self):\n",
    "        for tourneyNumber in range(generations):\n",
    "            # Step 1: Pick 2 individuals at random from the population\n",
    "            a = np.random.randint(self.popsize)\n",
    "            b = np.random.randint(self.popsize)\n",
    "            while (a==b):   # Make sure they are two different individuals\n",
    "                b = np.random.randint(self.popsize)\n",
    "\n",
    "            # Step 2: Compare their fitness\n",
    "            if (self.fitnessFunction(a) < self.fitnessFunction(b)):\n",
    "                winner = a\n",
    "                loser = b\n",
    "            else:\n",
    "                winner = b\n",
    "                loser = a\n",
    "    \n",
    "            # Step 3: Transfect loser with winner\n",
    "            for gene in range(self.genesize):\n",
    "                if (np.random.random() < self.recombProb):\n",
    "                    self.pop[loser][gene] = self.pop[winner][gene]\n",
    "\n",
    "            # Step 4: Mutate loser and Make sure new organism stays within bounds\n",
    "                if np.random.random() < self.mutatStd:\n",
    "                    self.pop[loser][gene] = 1 - self.pop[loser][gene]\n",
    "                \n",
    "            if self.fitnessFunction(loser) == 0.0:\n",
    "                return(tourneyNumber)\n",
    "                break\n",
    "                \n",
    "    def fitnessFunction(self, n):\n",
    "        calculatedSum = 0\n",
    "        calculatedProd = 1\n",
    "        \n",
    "        for i in range(0, self.genesize):\n",
    "            if self.pop[n][i] == 0:\n",
    "                calculatedSum += (1 + i)\n",
    "            else:\n",
    "                calculatedProd *= 1 + i\n",
    "        \n",
    "        scaledSumError = (calculatedSum - self.sumGoal) / self.sumGoal\n",
    "        scaledProdError = (calculatedProd - self.prodGoal) / self.prodGoal\n",
    "        combinedError = math.fabs(scaledSumError) + math.fabs(scaledProdError)\n",
    "           \n",
    "        return combinedError"
   ]
  },
  {
   "cell_type": "code",
   "execution_count": 9,
   "metadata": {},
   "outputs": [],
   "source": [
    "genesize = 10\n",
    "popsize = 30\n",
    "mutatProb = 0.1\n",
    "generations = 5000\n",
    "sumGoal = 36\n",
    "prodGoal = 360\n",
    "            \n",
    "times = np.zeros(101)\n",
    "trials = np.zeros(101)\n",
    "\n",
    "for rec in range(0,101):\n",
    "    cards = cardsGA2(popsize, genesize, rec * 0.01, mutatProb, sumGoal, prodGoal, generations)\n",
    "\n",
    "    times[rec] = cards.runTournament()\n",
    "    trials[rec] = rec * 0.01"
   ]
  },
  {
   "cell_type": "code",
   "execution_count": 10,
   "metadata": {},
   "outputs": [
    {
     "data": {
      "image/png": "[encoded data removed]",
      "text/plain": [
       "<Figure size 432x288 with 1 Axes>"
      ]
     },
     "metadata": {
      "needs_background": "light"
     },
     "output_type": "display_data"
    }
   ],
   "source": [
    "import matplotlib.pyplot as plt\n",
    "\n",
    "plt.plot(trials, times)\n",
    "plt.show()"
   ]
  },
  {
   "cell_type": "code",
   "execution_count": 11,
   "metadata": {},
   "outputs": [],
   "source": [
    "genesize = 10\n",
    "popsize = 30\n",
    "recombProb = 0.5\n",
    "generations = 5000\n",
    "sumGoal = 36\n",
    "prodGoal = 360\n",
    "            \n",
    "times = np.zeros(101)\n",
    "trials = np.zeros(101)\n",
    "\n",
    "for mut in range(0,101):\n",
    "    cards = cardsGA2(popsize, genesize, recombProb, mut * 0.01, sumGoal, prodGoal, generations)\n",
    "\n",
    "    times[mut] = cards.runTournament()\n",
    "    trials[mut] = mut * 0.01"
   ]
  },
  {
   "cell_type": "code",
   "execution_count": 12,
   "metadata": {},
   "outputs": [
    {
     "data": {
      "image/png": "[encoded data removed]",
      "text/plain": [
       "<Figure size 432x288 with 1 Axes>"
      ]
     },
     "metadata": {
      "needs_background": "light"
     },
     "output_type": "display_data"
    }
   ],
   "source": [
    "plt.plot(trials, times)\n",
    "plt.show()"
   ]
  },
  {
   "cell_type": "markdown",
   "metadata": {},
   "source": [
    "**The graphs above graph the amount of time it takes to calculate a correct set of cards for the cards optimization problem. As you can see by the non-linear and sporadic nature of both graphs, we can conclude that the mutation and recombination variables (although important) do not have a way of finding the perfect variable value. Instead, the amount of generations provided are what prove necessary and sufficient in order to see if your optimization works.**\n",
    "\n",
    "**This can be best seen when changing the number of generations to something like 50 instead of the 2000 above and you will realize that randomly, a correct variiation of the decks with sometimes appear even though a small amount of generations was provided.**"
   ]
  }
 ],
 "metadata": {
  "kernelspec": {
   "display_name": "Python 3",
   "language": "python",
   "name": "python3"
  },
  "language_info": {
   "codemirror_mode": {
    "name": "ipython",
    "version": 3
   },
   "file_extension": ".py",
   "mimetype": "text/x-python",
   "name": "python",
   "nbconvert_exporter": "python",
   "pygments_lexer": "ipython3",
   "version": "3.8.5"
  }
 },
 "nbformat": 4,
 "nbformat_minor": 4
}
