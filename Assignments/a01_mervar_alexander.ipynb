{
 "cells": [
  {
   "cell_type": "markdown",
   "metadata": {},
   "source": [
    "# a01_mervar_alexander\n",
    "This course requires a good understanding of programming. It also requires some understanding of linear algebra, probability, and basic statistics. This assignment lets you assess your basis for this course. The assignment will also help you refresh your knowledge of the basics of programming, including variables, expressions, conditionals, functions, iteration, lists, strings, file i/o, and object-oriented programming. If you struggle with the following questions (the questions are supposed to be relatively trivial), you may need to put lots of efforts throughout your course. Of course we will do our best to help you.\n",
    "- Use Python as a Calculator. Demonstrate the use of each of the following operators: + (addition), - (substration), * (multiplication), / (division), % (remainder), // (integer division), and ** (power).\n",
    "- Create five different variables. Assign different types of values to each. Assign an integer value the first, a string to the second, a Boolean to the third, a floating point value to the fourth, and a list of floating point values to the last one.\n",
    "- Use the previously created variable with a string assigned to it and access the first letter of the string (this is called indexing), also the last letter of the string. Do the same for the variable with the list.\n",
    "- Write a few lines of code that can perform a countdown from 10 down to 0 using a while loop. You will be using the print(x) command.\n",
    "- Ask the user for an integer and then tell the user whether the integer is positive, negative, or zero. For a more advanced option, tell the user whether the number is even or odd.\n",
    "- Create a variable with a list of words. Then iterate through the list using a For loop and print only the words of a certain length (e.g,. words greater than 5 letters). For a more advanced option, iterate through the list of words and tell us which of them is the longest word.\n",
    "- Use the range() function to re-do the countdown code from exercise 4.\n",
    "- Define a function called countdown() that receives a number n and counts down from n to 0 by printing.\n",
    "- Define a function called findlongest() that receives a list of words and returns the length of the longest word in that list.\n",
    "- Import Numpy library. Create two vectors (each one dimensional array of size 3, e.g., [1,3,4] and [5,2,4]). Add the two vectors together. Calculate the mean and the standard deviation of the resulting vector.\n",
    "- Also import the Matplotlib.pyplot library. Create one dimensional array of size 100 (e.g., [1,2,3..,100]) with the numbers drawn from a Normal distribution with mean 0 and standard deviation of 2. Then create a histogram plot of that vector.\n",
    "- In your own words, how would you describe your comfort level in solving each of these exercises from 0 to 10 (where 0 is you actually could not figure them out, 5 is you figured them out with help online, and 10 is you could do this with your eyes closed). In addition to the rating, explain which parts were easier and which parts were harder for you.\n",
    "Rename your notebook as this: \"a01_lastname_firstname\" and submit to Canvas in the \"Python Basics\" assignment section."
   ]
  },
  {
   "cell_type": "markdown",
   "metadata": {},
   "source": [
    "### Problem 1\n",
    "Use Python as a Calculator. Demonstrate the use of each of the following operators: + (addition), - (substration), * (multiplication), / (division), % (remainder), // (integer division), and ** (power)."
   ]
  },
  {
   "cell_type": "code",
   "execution_count": null,
   "metadata": {},
   "outputs": [],
   "source": []
  },
  {
   "cell_type": "code",
   "execution_count": 6,
   "metadata": {
    "scrolled": true
   },
   "outputs": [
    {
     "data": {
      "text/plain": [
       "729"
      ]
     },
     "execution_count": 6,
     "metadata": {},
     "output_type": "execute_result"
    }
   ],
   "source": [
    "9+3"
   ]
  },
  {
   "cell_type": "code",
   "execution_count": 7,
   "metadata": {},
   "outputs": [
    {
     "data": {
      "text/plain": [
       "6"
      ]
     },
     "execution_count": 7,
     "metadata": {},
     "output_type": "execute_result"
    }
   ],
   "source": [
    "9 - 3"
   ]
  },
  {
   "cell_type": "code",
   "execution_count": 8,
   "metadata": {},
   "outputs": [
    {
     "data": {
      "text/plain": [
       "27"
      ]
     },
     "execution_count": 8,
     "metadata": {},
     "output_type": "execute_result"
    }
   ],
   "source": [
    "9 * 3"
   ]
  },
  {
   "cell_type": "code",
   "execution_count": 9,
   "metadata": {},
   "outputs": [
    {
     "data": {
      "text/plain": [
       "3.0"
      ]
     },
     "execution_count": 9,
     "metadata": {},
     "output_type": "execute_result"
    }
   ],
   "source": [
    "9 / 3"
   ]
  },
  {
   "cell_type": "code",
   "execution_count": 10,
   "metadata": {},
   "outputs": [
    {
     "data": {
      "text/plain": [
       "0"
      ]
     },
     "execution_count": 10,
     "metadata": {},
     "output_type": "execute_result"
    }
   ],
   "source": [
    "9 % 3"
   ]
  },
  {
   "cell_type": "code",
   "execution_count": 11,
   "metadata": {},
   "outputs": [
    {
     "data": {
      "text/plain": [
       "3"
      ]
     },
     "execution_count": 11,
     "metadata": {},
     "output_type": "execute_result"
    }
   ],
   "source": [
    "9 // 3"
   ]
  },
  {
   "cell_type": "code",
   "execution_count": 12,
   "metadata": {},
   "outputs": [
    {
     "data": {
      "text/plain": [
       "729"
      ]
     },
     "execution_count": 12,
     "metadata": {},
     "output_type": "execute_result"
    }
   ],
   "source": [
    "9 ** 3"
   ]
  },
  {
   "cell_type": "markdown",
   "metadata": {},
   "source": [
    "### Problem 2\n",
    "Create five different variables. Assign different types of values to each. Assign an integer value the first, a string to the second, a Boolean to the third, a floating point value to the fourth, and a list of floating point values to the last one."
   ]
  },
  {
   "cell_type": "code",
   "execution_count": 15,
   "metadata": {},
   "outputs": [],
   "source": [
    "integer = 5\n",
    "string = \"hello world\"\n",
    "boolean = True\n",
    "fp = 7.0\n",
    "lfp = [7.0, 3.0, 4.0]"
   ]
  },
  {
   "cell_type": "markdown",
   "metadata": {},
   "source": [
    "### Problem 3\n",
    "Use the previously created variable with a string assigned to it and access the first letter of the string (this is called indexing), also the last letter of the string. Do the same for the variable with the list."
   ]
  },
  {
   "cell_type": "code",
   "execution_count": 16,
   "metadata": {},
   "outputs": [
    {
     "name": "stdout",
     "output_type": "stream",
     "text": [
      "h\n"
     ]
    }
   ],
   "source": [
    "print(string[0])"
   ]
  },
  {
   "cell_type": "code",
   "execution_count": 17,
   "metadata": {},
   "outputs": [
    {
     "name": "stdout",
     "output_type": "stream",
     "text": [
      "d\n"
     ]
    }
   ],
   "source": [
    "print(string[10])"
   ]
  },
  {
   "cell_type": "code",
   "execution_count": 19,
   "metadata": {},
   "outputs": [
    {
     "name": "stdout",
     "output_type": "stream",
     "text": [
      "4.0\n"
     ]
    }
   ],
   "source": [
    "print(lfp[2])"
   ]
  },
  {
   "cell_type": "markdown",
   "metadata": {},
   "source": [
    "### Problem 4\n",
    "Write a few lines of code that can perform a countdown from 10 down to 0 using a while loop. You will be using the print(x) command."
   ]
  },
  {
   "cell_type": "code",
   "execution_count": 21,
   "metadata": {},
   "outputs": [
    {
     "name": "stdout",
     "output_type": "stream",
     "text": [
      "10\n",
      "9\n",
      "8\n",
      "7\n",
      "6\n",
      "5\n",
      "4\n",
      "3\n",
      "2\n",
      "1\n",
      "0\n"
     ]
    }
   ],
   "source": [
    "x = 10\n",
    "while x > -1:\n",
    "    print(x)\n",
    "    x -= 1"
   ]
  },
  {
   "cell_type": "markdown",
   "metadata": {},
   "source": [
    "### Problem 5\n",
    "Ask the user for an integer and then tell the user whether the integer is positive, negative, or zero. For a more advanced option, tell the user whether the number is even or odd."
   ]
  },
  {
   "cell_type": "code",
   "execution_count": 27,
   "metadata": {},
   "outputs": [
    {
     "name": "stdout",
     "output_type": "stream",
     "text": [
      "enter (integer) input: -5\n",
      "The integer is negative\n",
      "\n",
      "The integer is odd\n"
     ]
    }
   ],
   "source": [
    "userInput = input(\"enter (integer) input: \")\n",
    "userInput = int(userInput)\n",
    "if userInput > 0:\n",
    "    print(\"The integer is positive\")\n",
    "elif userInput == 0:\n",
    "    print(\"The integer is zero\")\n",
    "else:\n",
    "    print(\"The integer is negative\")\n",
    "print()\n",
    "if userInput % 2 == 0:\n",
    "    print(\"The integer is even\")\n",
    "else:\n",
    "    print(\"The integer is odd\")"
   ]
  },
  {
   "cell_type": "markdown",
   "metadata": {},
   "source": [
    "### Problem 6\n",
    "Create a variable with a list of words. Then iterate through the list using a For loop and print only the words of a certain length (e.g,. words greater than 5 letters). For a more advanced option, iterate through the list of words and tell us which of them is the longest word."
   ]
  },
  {
   "cell_type": "code",
   "execution_count": 63,
   "metadata": {},
   "outputs": [
    {
     "name": "stdout",
     "output_type": "stream",
     "text": [
      "Alexander\n",
      "Mervar\n",
      "Alexander is the longest word in the list\n"
     ]
    }
   ],
   "source": [
    "listOfWord = [\"Haley\", \"Alexander\", \"Lucy\", \"Mervar\"]\n",
    "longest = \"\"\n",
    "for x in listOfWord:\n",
    "    if len(x) > 5:\n",
    "        print(x)\n",
    "    if len(x) > len(longest):\n",
    "        longest = x\n",
    "print(longest + \" is the longest word in the list\")"
   ]
  },
  {
   "cell_type": "markdown",
   "metadata": {},
   "source": [
    "### Problem 7\n",
    "Use the range() function to re-do the countdown code from exercise 4."
   ]
  },
  {
   "cell_type": "code",
   "execution_count": 31,
   "metadata": {},
   "outputs": [
    {
     "name": "stdout",
     "output_type": "stream",
     "text": [
      "10\n",
      "9\n",
      "8\n",
      "7\n",
      "6\n",
      "5\n",
      "4\n",
      "3\n",
      "2\n",
      "1\n",
      "0\n"
     ]
    }
   ],
   "source": [
    "rangeList = range(10, -1, -1)\n",
    "for x in rangeList:\n",
    "    print(x)"
   ]
  },
  {
   "cell_type": "markdown",
   "metadata": {},
   "source": [
    "### Problem 8\n",
    "Define a function called countdown() that receives a number n and counts down from n to 0 by printing."
   ]
  },
  {
   "cell_type": "code",
   "execution_count": 33,
   "metadata": {},
   "outputs": [],
   "source": [
    "def countdown(n):\n",
    "    while n > -1:\n",
    "        print(n)\n",
    "        n -= 1"
   ]
  },
  {
   "cell_type": "code",
   "execution_count": 34,
   "metadata": {},
   "outputs": [
    {
     "name": "stdout",
     "output_type": "stream",
     "text": [
      "10\n",
      "9\n",
      "8\n",
      "7\n",
      "6\n",
      "5\n",
      "4\n",
      "3\n",
      "2\n",
      "1\n",
      "0\n"
     ]
    }
   ],
   "source": [
    "countdown(10)"
   ]
  },
  {
   "cell_type": "markdown",
   "metadata": {},
   "source": [
    "### Problem 9\n",
    "Define a function called findlongest() that receives a list of words and returns the length of the longest word in that list."
   ]
  },
  {
   "cell_type": "code",
   "execution_count": 41,
   "metadata": {},
   "outputs": [
    {
     "name": "stdout",
     "output_type": "stream",
     "text": [
      "Alexander\n"
     ]
    }
   ],
   "source": [
    "def findLongest(low):\n",
    "    longest = \"\"\n",
    "    for x in low:\n",
    "        if len(x) > len(longest):\n",
    "            longest = x\n",
    "    print(longest)\n",
    "            \n",
    "listOfStrings = [\"Haley\", \"Alexander\", \"Lucy\", \"Mervar\"]\n",
    "findLongest(listOfStrings)"
   ]
  },
  {
   "cell_type": "markdown",
   "metadata": {},
   "source": [
    "### Problem 10\n",
    "Import Numpy library. Create two vectors (each one dimensional array of size 3, e.g., [1,3,4] and [5,2,4]). Add the two vectors together. Calculate the mean and the standard deviation of the resulting vector."
   ]
  },
  {
   "cell_type": "code",
   "execution_count": 48,
   "metadata": {},
   "outputs": [
    {
     "name": "stdout",
     "output_type": "stream",
     "text": [
      "[6 5 8]\n",
      "6.333333333333333\n",
      "1.247219128924647\n"
     ]
    }
   ],
   "source": [
    "import numpy as np\n",
    "vector1 = [1,3,4]\n",
    "vector2 = [5,2,4]\n",
    "array1 = np.array(vector1)\n",
    "array2 = np.array(vector2)\n",
    "array3= array1+array2\n",
    "print(array3)\n",
    "print(np.mean(array3))\n",
    "print(np.std(array3))"
   ]
  },
  {
   "cell_type": "markdown",
   "metadata": {},
   "source": [
    "### Problem 11\n",
    "Also import the Matplotlib.pyplot library. Create one dimensional array of size 100 (e.g., [1,2,3..,100]) with the numbers drawn from a Normal distribution with mean 0 and standard deviation of 2. Then create a histogram plot of that vector."
   ]
  },
  {
   "cell_type": "code",
   "execution_count": 61,
   "metadata": {},
   "outputs": [
    {
     "data": {
      "text/plain": [
       "(array([ 5.,  3., 12., 22., 16., 15., 12., 13.,  1.,  1.]),\n",
       " array([-4.60607525, -3.63225792, -2.65844059, -1.68462326, -0.71080593,\n",
       "         0.2630114 ,  1.23682873,  2.21064606,  3.18446339,  4.15828072,\n",
       "         5.13209805]),\n",
       " <BarContainer object of 10 artists>)"
      ]
     },
     "execution_count": 61,
     "metadata": {},
     "output_type": "execute_result"
    },
    {
     "data": {
      "image/png": "[encoded data removed]",
      "text/plain": [
       "<Figure size 432x288 with 1 Axes>"
      ]
     },
     "metadata": {
      "needs_background": "light"
     },
     "output_type": "display_data"
    }
   ],
   "source": [
    "import matplotlib.pylab as plt\n",
    "sampleSize = np.random.normal(loc=0.0, scale=2.0, size=100)\n",
    "# print(sampleSize)\n",
    "plt.hist(sampleSize)"
   ]
  },
  {
   "cell_type": "markdown",
   "metadata": {},
   "source": [
    "### Problem 12\n",
    "In your own words, how would you describe your comfort level in solving each of these exercises from 0 to 10 (where 0 is you actually could not figure them out, 5 is you figured them out with help online, and 10 is you could do this with your eyes closed). In addition to the rating, explain which parts were easier and which parts were harder for you. Rename your notebook as this: \"a01_lastname_firstname\" and submit to Canvas in the \"Python Basics\" assignment section."
   ]
  },
  {
   "cell_type": "markdown",
   "metadata": {},
   "source": [
    "---\n",
    "This assignment was pretty easy and I'd rate myself at a 6. The only reason I am not a 10 is because I am new to Python since I have programmed in Racket and Java but syntax is pretty easy to look up if I'm unfamiliar (or most likely forget) how to write a for loop in Python, for example.\n",
    "\n",
    "I also had to learn syntax for the libraries."
   ]
  }
 ],
 "metadata": {
  "kernelspec": {
   "display_name": "Python 3",
   "language": "python",
   "name": "python3"
  },
  "language_info": {
   "codemirror_mode": {
    "name": "ipython",
    "version": 3
   },
   "file_extension": ".py",
   "mimetype": "text/x-python",
   "name": "python",
   "nbconvert_exporter": "python",
   "pygments_lexer": "ipython3",
   "version": "3.8.5"
  }
 },
 "nbformat": 4,
 "nbformat_minor": 4
}
