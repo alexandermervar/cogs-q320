{
 "cells": [
  {
   "cell_type": "markdown",
   "metadata": {},
   "source": [
    "## Lab 2: Conditionals, Functions, Iteration, Lists and Strings."
   ]
  },
  {
   "cell_type": "markdown",
   "metadata": {},
   "source": [
    "Rename your notebook as this: \"l02_lastname_firstname\" and submit to Canvas in the \"Conditionals, Functions, Iteration, Lists and Strings\" assignment section."
   ]
  },
  {
   "cell_type": "markdown",
   "metadata": {},
   "source": [
    "### Exercise 1 (3 points): Iterations and lists"
   ]
  },
  {
   "cell_type": "markdown",
   "metadata": {},
   "source": [
    "Write a function called divisors() that receives a number, x, and returns a list of all the divisors of x. The list should include 1 and the number x itself. For example, divisors(10) should return the list [1, 2, 5, 10]."
   ]
  },
  {
   "cell_type": "code",
   "execution_count": 3,
   "metadata": {},
   "outputs": [],
   "source": [
    "def divisors(x):\n",
    "    divs = []\n",
    "    n = 1\n",
    "    while n <= x:\n",
    "        if x % n == 0:\n",
    "            divs.append(n)\n",
    "        n += 1\n",
    "    return divs"
   ]
  },
  {
   "cell_type": "code",
   "execution_count": 4,
   "metadata": {},
   "outputs": [
    {
     "name": "stdout",
     "output_type": "stream",
     "text": [
      "[1, 2, 5, 10]\n"
     ]
    }
   ],
   "source": [
    "print(divisors(10))"
   ]
  },
  {
   "cell_type": "markdown",
   "metadata": {},
   "source": [
    "### Exercise 2 (3 points): Conditionals and Random Number Generation"
   ]
  },
  {
   "cell_type": "markdown",
   "metadata": {},
   "source": [
    "Write a function called guess() that implements a simple number-guessing game. When the function is ran, it should pick a random number from 0 to 100. It should then ask the user for a guess. If the user’s guess is different from the picked number it should tell the user whether their guess was too high or too low, and then prompt them to guess again - until they’ve guessed the number correctly."
   ]
  },
  {
   "cell_type": "code",
   "execution_count": 7,
   "metadata": {},
   "outputs": [],
   "source": [
    "import random\n",
    "\n",
    "def guess():\n",
    "    num = random.randint(0, 100)\n",
    "    user = int(input(\"Guess a random number between 0 and 100: \"))\n",
    "    while user != num:\n",
    "        if user > num:\n",
    "            user = int(input(\"Guess was too high! Input again: \"))\n",
    "        elif user < num:\n",
    "            user = int(input(\"Guess was too low! Input again: \"))\n",
    "    print(\"Correct!\")\n",
    "        "
   ]
  },
  {
   "cell_type": "code",
   "execution_count": 8,
   "metadata": {},
   "outputs": [
    {
     "name": "stdout",
     "output_type": "stream",
     "text": [
      "Guess a random number between 0 and 100: 50\n",
      "Guess was too low! Input again: 60\n",
      "Guess was too low! Input again: 70\n",
      "Guess was too low! Input again: 80\n",
      "Guess was too low! Input again: 90\n",
      "Guess was too low! Input again: 99\n",
      "Guess was too high! Input again: 95\n",
      "Guess was too high! Input again: 94\n",
      "Guess was too high! Input again: 93\n",
      "Correct!\n"
     ]
    }
   ],
   "source": [
    "guess()"
   ]
  },
  {
   "cell_type": "markdown",
   "metadata": {},
   "source": [
    "### Exercise 3 (3 points): Words and Files"
   ]
  },
  {
   "cell_type": "markdown",
   "metadata": {},
   "source": [
    "The New York Times has a Spelling Bee puzzle (https://www.nytimes.com/puzzles/spelling-bee). These are the rules of the game: The \"hive\" is a set of 7 letters. The \"key\" is the center letter of the hive. Users can create words using only letters from the \"hive\". Words must contain at least 4 letters. Words must include the \"key\" letter. All letters can be used more than once. Write a function called bee() that receives the \"hive\" in the form of a seven letter word (e.g., \"yglpote\") where the center one \"p\" is the \"key\" and the rest of the letters are the rest of the letters in the hive. The function should read the list of all words available on Canvas and filter them to show only the ones that meet the criteria set out by the game. For the example \"hive\" given above, the function should find words like polyglot, lollypop, topology, logotype, etc. Have fun with it and make sure to show your creation to puzzle-loving family and friends!"
   ]
  },
  {
   "cell_type": "code",
   "execution_count": 1,
   "metadata": {
    "scrolled": true
   },
   "outputs": [],
   "source": [
    "def bee(string):\n",
    "    key = string[3:4]\n",
    "    letters = []\n",
    "    # Create letters that are not the key\n",
    "    for x in range(7):\n",
    "        letters.append(string[x])\n",
    "    f = open(\"l02words.txt\")\n",
    "    \n",
    "    words = []\n",
    "    for line in f:\n",
    "        words.append(line.strip(\"\\n\"))\n",
    "    \n",
    "    \n",
    "    correctWords = []\n",
    "    #Generate list of correct words\n",
    "    for line in words:\n",
    "        hasCentralLetter = True\n",
    "        for letter in key:\n",
    "            if letter not in line:\n",
    "                hasCentralLetter = False\n",
    "        noExtraLetters = True\n",
    "        for letter in line:\n",
    "            if letter not in letters:\n",
    "                noExtraLetters = False        \n",
    "        \n",
    "        if hasCentralLetter and noExtraLetters and len(line)>=4:\n",
    "            correctWords.append(line)\n",
    "    \n",
    "    return(correctWords)\n",
    "            \n",
    "            \n",
    "\n",
    "    \n",
    "    \n",
    "    \n",
    "    "
   ]
  },
  {
   "cell_type": "code",
   "execution_count": 2,
   "metadata": {},
   "outputs": [
    {
     "name": "stdout",
     "output_type": "stream",
     "text": [
      "['elope', 'epee', 'epopee', 'glop', 'goop', 'logotype', 'logotypy', 'lollop', 'lollypop', 'loop', 'loopy', 'lope', 'loppy', 'peel', 'peep', 'pele', 'pellet', 'pelt', 'people', 'pepo', 'peppy', 'pettle', 'petto', 'petty', 'peyote', 'peyotl', 'plop', 'plot', 'plotty', 'ploy', 'poet', 'pogey', 'pogy', 'pole', 'poll', 'pollee', 'polly', 'polo', 'poly', 'polyglot', 'polyp', 'polytype', 'pool', 'poop', 'pope', 'poppet', 'popple', 'poppy', 'pottle', 'potto', 'potty', 'teepee', 'tepee', 'tope', 'topee', 'topology', 'topotype', 'topple', 'type', 'typey', 'typo', 'typology', 'typp', 'typy', 'yelp']\n"
     ]
    }
   ],
   "source": [
    "print(bee(\"yglpote\"))"
   ]
  },
  {
   "cell_type": "markdown",
   "metadata": {},
   "source": [
    "### Exercise 4 (3 points): Object-Oriented Programming"
   ]
  },
  {
   "cell_type": "markdown",
   "metadata": {},
   "source": [
    "Create an object-oriented class called randomwalker() that represents an agent performing a \"drunken walk\" around a 2D space. The random walker agent will have three attributes: a position in the x dimension, a position in the y dimension, and an orientation or heading. The agent  always start at \"home,\" which is at the origin of the space (x=0, y=0). The agent has a method called step(). With every step, the agent chooses a random orientation (between 0 and 360 degrees) and takes a step in their new direction. The distance of the step is always the same - we refer to this as the velocity of the agent (let's assume for simplicity that the velocity of this agent is v=1.0). Given the current position of the agent and an orientation, one can calculate the new position using this formula: x' = x + v * cos(o) and y' = y + v * sin(o), x' and y' are the new positions, v is the agent's velocity, and o is the agent's orientation in radians (0 to 2Pi). Use the randomwalker() class that you just created to calculate, on average, how far is the random walker from home after 100 steps. To calculate the average distance, you might want to run the simulation multiple times (e.g., N=10,100,1000,..). Discuss your findings. "
   ]
  },
  {
   "cell_type": "code",
   "execution_count": 7,
   "metadata": {},
   "outputs": [],
   "source": [
    "import math\n",
    "import random\n",
    "\n",
    "class randomWalker():\n",
    "    \n",
    "    velocity = 1\n",
    "    \n",
    "    def __init__(self):\n",
    "        ### your code here\n",
    "        self.x = 0\n",
    "        self.y = 0\n",
    "        self.orientation = 0\n",
    "    \n",
    "    def step(self):\n",
    "        ### your code here\n",
    "        self.orientation = random.randint(0, 360)\n",
    "        self.x = self.x + self.velocity * math.cos(math.radians(self.orientation))\n",
    "        self.y = self.y + self.velocity * math.sin(math.radians(self.orientation))\n",
    "        # print(\"The current position is: (\" + str(self.x) + \", \" + str(self.y) + \") Orientation: \" + str(self.orientation))\n",
    "        \n",
    "    def distanceFromHome(self):\n",
    "        ### your code here\n",
    "        listOfDistances = []\n",
    "        for test in range(10000):\n",
    "            for x in range(100):\n",
    "                self.step()\n",
    "            listOfDistances.append(math.sqrt(((0-self.x)**2)+((0-self.y)**2)))\n",
    "        \n",
    "        sumOfDist = 0\n",
    "        for t in listOfDistances:\n",
    "            sumOfDist += t\n",
    "        # print(listOfDistances)\n",
    "        return(sumOfDist / len(listOfDistances))"
   ]
  },
  {
   "cell_type": "code",
   "execution_count": 9,
   "metadata": {},
   "outputs": [
    {
     "name": "stdout",
     "output_type": "stream",
     "text": [
      "The average distance traveled in 100 steps is: 1825.434198187308\n"
     ]
    }
   ],
   "source": [
    "drunkBoi = randomWalker()\n",
    "print(\"The average distance traveled in 100 steps is: \" + str(drunkBoi.distanceFromHome()))"
   ]
  }
 ],
 "metadata": {
  "kernelspec": {
   "display_name": "Python 3",
   "language": "python",
   "name": "python3"
  },
  "language_info": {
   "codemirror_mode": {
    "name": "ipython",
    "version": 3
   },
   "file_extension": ".py",
   "mimetype": "text/x-python",
   "name": "python",
   "nbconvert_exporter": "python",
   "pygments_lexer": "ipython3",
   "version": "3.8.5"
  }
 },
 "nbformat": 4,
 "nbformat_minor": 4
}
