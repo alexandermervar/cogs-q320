{
 "cells": [
  {
   "cell_type": "markdown",
   "metadata": {},
   "source": [
    "# Lab 1\n",
    "---\n",
    "Alexander Mervar  \n",
    "COGS-Q 320  \n",
    "Eduardo Izquierdo  \n",
    "1.21.2021"
   ]
  },
  {
   "cell_type": "markdown",
   "metadata": {},
   "source": [
    "## Problem 1"
   ]
  },
  {
   "cell_type": "code",
   "execution_count": 1,
   "metadata": {},
   "outputs": [],
   "source": [
    "def is_triangle(num1, num2, num3):\n",
    "    if num1 + num2 > num3:\n",
    "        1\n",
    "    elif num1 + num3 > num2:\n",
    "        1\n",
    "    elif num2+ num3 > num1:\n",
    "        1\n",
    "    else:\n",
    "        0"
   ]
  }
 ],
 "metadata": {
  "kernelspec": {
   "display_name": "Python 3",
   "language": "python",
   "name": "python3"
  },
  "language_info": {
   "codemirror_mode": {
    "name": "ipython",
    "version": 3
   },
   "file_extension": ".py",
   "mimetype": "text/x-python",
   "name": "python",
   "nbconvert_exporter": "python",
   "pygments_lexer": "ipython3",
   "version": "3.8.5"
  }
 },
 "nbformat": 4,
 "nbformat_minor": 4
}
