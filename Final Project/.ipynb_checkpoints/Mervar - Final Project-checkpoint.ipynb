{
 "cells": [
  {
   "cell_type": "markdown",
   "metadata": {},
   "source": [
    "# Lost in the Sauce of Bat Flight Patterns\n",
    "**Alexander Mervar**  \n",
    "**COGS-Q 320**  \n",
    "**Professor Izquierdo**"
   ]
  },
  {
   "cell_type": "markdown",
   "metadata": {},
   "source": [
    "This project looks to simulate bat flight patterns in an artistic way. Initial inspiration from [episode 432](https://99percentinvisible.org/episode/the-batman-and-the-bridge-builder/) of [99% Invisible](https://99percentinvisible.org)."
   ]
  },
  {
   "cell_type": "markdown",
   "metadata": {},
   "source": [
    "Definition of Bat Class 1.0"
   ]
  },
  {
   "cell_type": "code",
   "execution_count": 1,
   "metadata": {},
   "outputs": [],
   "source": [
    "import random\n",
    "import numpy as np\n",
    "import matplotlib.pyplot as plt"
   ]
  },
  {
   "cell_type": "code",
   "execution_count": 2,
   "metadata": {},
   "outputs": [],
   "source": [
    "# TODO:\n",
    "# DONE - Completed 1.0 Version"
   ]
  },
  {
   "cell_type": "code",
   "execution_count": 3,
   "metadata": {},
   "outputs": [],
   "source": [
    "class Bat:\n",
    "\n",
    "    def __init__(self):\n",
    "        \n",
    "        # Here I initialize all of the variables for the Bat class\n",
    "        self.xpos = 0.0                                       # bat's x position, starts in middle of world\n",
    "        self.ypos = 0.0                                       # bat's y position, starts in middle of world\n",
    "        self.orientation = np.random.random()*2*np.pi         # bat's orientation, starts at random\n",
    "        self.velocity = 0.0                                   # bat's velocity, starts at 0\n",
    "        self.radius = 1.0                                     # the size/radius of the bat\n",
    "        # The ear variables are key for echolocation\n",
    "        self.leftear = 0.0                                    # left ear value\n",
    "        self.rightear = 0.0                                   # right ear value\n",
    "        self.leftwing  = 1.0                                  # left wing output\n",
    "        self.rightwing = 1.0                                  # right wing output\n",
    "        \n",
    "        # Attributes to determine the placement of the ears\n",
    "        self.angleoffset = np.pi/2                                                 # left/right ear angle offset\n",
    "        self.re_xpos = self.radius * np.cos(self.orientation + self.angleoffset)   # right ear x position\n",
    "        self.re_ypos = self.radius * np.sin(self.orientation + self.angleoffset)   # right ear y position\n",
    "        self.le_xpos = self.radius * np.cos(self.orientation - self.angleoffset)   # left ear x position\n",
    "        self.le_ypos = self.radius * np.sin(self.orientation - self.angleoffset)   # left ear y position\n",
    "        \n",
    "        # Bug Eating Attributes\n",
    "        self.killCount = 0\n",
    "        self.satisfied = False\n",
    "\n",
    "    def echoLocate(self,bug):\n",
    "        # This function is what is used to calibrate the ears in order to track an object\n",
    "        # It's important to realize that if the bat is satisfied (it has eaten enough) \n",
    "        # it will change what it tracks\n",
    "        if self.satisfied == False:\n",
    "        \n",
    "            # Calculate the distance of the insect for each of the sensors\n",
    "            self.leftear = 1 - np.sqrt((self.le_xpos-bug.xpos)**2 + (self.le_ypos-bug.ypos)**2)/10\n",
    "            self.leftear = np.clip(self.leftear,0,1)\n",
    "            self.rightear = 1 - np.sqrt((self.re_xpos-bug.xpos)**2 + (self.re_ypos-bug.ypos)**2)/10\n",
    "            self.rightear = np.clip(self.rightear,0,1)\n",
    "        \n",
    "        else:\n",
    "            self.returnHome()\n",
    "            \n",
    "    # Uses the ear values to set the strength levels of the wings in order to have a proper and accurate\n",
    "    # flight pattern\n",
    "    def setFlight(self):\n",
    "        if self.rightear > .95 and self.leftear > .95:\n",
    "            self.rightwing = 0.10\n",
    "            self.leftwing = 0.10\n",
    "        elif self.rightear > self.leftear:\n",
    "            self.rightwing = 0.25\n",
    "            self.leftwing = 0.5\n",
    "        elif self.leftear > self.rightear:\n",
    "            self.rightwing = 0.5\n",
    "            self.leftwing = 0.25\n",
    "            \n",
    "    def eatBug(self, bug):\n",
    "        #kills the given object of the bug class\n",
    "        bug.die()\n",
    "        self.killCount += 1\n",
    "        if self.killCount == 1:\n",
    "            self.satisfied = True\n",
    "        \n",
    "    def returnHome(self):\n",
    "        #send the bat back to it's intial position (for now, this is set at (0,0))\n",
    "        self.leftear = 1 - np.sqrt((self.le_xpos-0)**2 + (self.le_ypos-0)**2)/10\n",
    "        self.rightear = 1 - np.sqrt((self.re_xpos-0)**2 + (self.re_ypos-0)**2)/10\n",
    "        \n",
    "    def move(self):\n",
    "        \n",
    "        # Update the orientation and velocity of the vehicle based on the left and right motors\n",
    "        self.rightwing = np.clip(self.rightwing,0,1)\n",
    "        self.leftwing  = np.clip(self.leftwing,0,1)\n",
    "        self.orientation += ((self.leftwing - self.rightwing)/10) + np.random.normal(0,0.1)\n",
    "        self.velocity = ((self.rightwing + self.leftwing)/2)/50\n",
    "        \n",
    "        # Update position of the agent\n",
    "        self.xpos += self.velocity * np.cos(self.orientation) \n",
    "        self.ypos += self.velocity * np.sin(self.orientation)  \n",
    "        \n",
    "        # Update position of the sensors\n",
    "        self.re_xpos = self.xpos + self.radius * np.cos(self.orientation + self.angleoffset)\n",
    "        self.re_ypos = self.ypos + self.radius * np.sin(self.orientation + self.angleoffset)\n",
    "        self.le_xpos = self.xpos + self.radius * np.cos(self.orientation - self.angleoffset)\n",
    "        self.le_ypos = self.ypos + self.radius * np.sin(self.orientation - self.angleoffset)\n",
    "\n",
    "    # Calculates the distance of the bat from the given bug object\n",
    "    def distance(self,bug):\n",
    "        return np.sqrt((self.xpos-bug.xpos)**2 + (self.ypos-bug.ypos)**2)\n",
    "\n",
    "class Bug:  \n",
    "\n",
    "    # This class is used to create the bug objects and below are the necessary variables to achieve\n",
    "    # biologically accurate flight\n",
    "    def __init__(self):\n",
    "        angle = np.random.random()*2*np.pi\n",
    "        self.xpos = 10.0 * np.cos(angle)                      # bug's x position, starts in middle of world\n",
    "        self.ypos = 10.0 * np.sin(angle)                      # bug's y position, starts in middle of world\n",
    "        self.orientation = np.random.random()*2*np.pi         # bug's orientation, starts at random\n",
    "        self.velocity = 0.0                                   # bug's velocity, starts at 0\n",
    "        self.radius = 0.5                                     # the size/radius of the bug\n",
    "        self.leftwing = 0.0                                   # the strength of the left wing of the bug\n",
    "        self.rightwing = 0.0                                  # the strength of the right wing of the bug\n",
    "        self.lifeStatus = 1\n",
    "    # For this project, the bugs are given no objective. Because of this, their flight pattern is random.\n",
    "    # This was an interesting challenge. Please see write up, below.\n",
    "    def setFlight(self):\n",
    "        self.rightwing = random.uniform(0, 0.8)\n",
    "        self.leftwing = random.uniform(0,0.8)\n",
    "    \n",
    "    # I use the integers 0 and 1 to act as booleans to keep track of the bug's lifeStatus \n",
    "    # (if the bug is dead or alive)\n",
    "    def die(self):\n",
    "        self.lifeStatus = 0\n",
    "        \n",
    "    def move(self):\n",
    "        \n",
    "        if self.lifeStatus == 1:\n",
    "        \n",
    "            # Update the orientation and velocity of the vehicle based on the left and right motors\n",
    "            self.rightwing = np.clip(self.rightwing,0,1)\n",
    "            self.leftwing  = np.clip(self.leftwing,0,1)\n",
    "            self.orientation += ((self.leftwing - self.rightwing)/10) + np.random.normal(0,0.1)\n",
    "            self.velocity = ((self.rightwing + self.leftwing)/2)/50\n",
    "        \n",
    "            # Update position of the agent\n",
    "            self.xpos += self.velocity * np.cos(self.orientation) \n",
    "            self.ypos += self.velocity * np.sin(self.orientation)\n",
    "        else:\n",
    "            self.lifeStatus = 0"
   ]
  },
  {
   "cell_type": "markdown",
   "metadata": {},
   "source": [
    "# Bat vs. Bug (One-on-One)"
   ]
  },
  {
   "cell_type": "code",
   "execution_count": 4,
   "metadata": {},
   "outputs": [
    {
     "data": {
      "image/png": "[encoded data removed]",
      "text/plain": [
       "<Figure size 432x288 with 1 Axes>"
      ]
     },
     "metadata": {
      "needs_background": "light"
     },
     "output_type": "display_data"
    }
   ],
   "source": [
    "# Initialize the Bat object and the Bug object\n",
    "a = Bat()\n",
    "b = Bug()\n",
    "\n",
    "# Set duration of simulation\n",
    "duration = 5000\n",
    "\n",
    "# Arrays to track the position of the bat and bug\n",
    "batXPos = np.zeros(duration)\n",
    "batYPos = np.zeros(duration)\n",
    "bugXPos = np.zeros(duration)\n",
    "bugYPos = np.zeros(duration)\n",
    "\n",
    "# Main simulation loop.\n",
    "for t in range(duration):\n",
    "    a.echoLocate(b)\n",
    "    a.setFlight()\n",
    "    a.move()\n",
    "    if a.distance(b) < 0.5:\n",
    "        a.eatBug(b)\n",
    "        # When the bat agent is close enough to the bug, this is how I keep track of where the kill is\n",
    "        # this is also where I cause the bug's lifeStatus to change and for this simulation, where the Bat\n",
    "        # becomes satisfied\n",
    "        killX = a.xpos\n",
    "        killY = a.ypos\n",
    "        a.satisfied = True\n",
    "    b.setFlight()\n",
    "    b.move()\n",
    "    batXPos[t] = a.xpos\n",
    "    batYPos[t] = a.ypos\n",
    "    bugXPos[t] = b.xpos\n",
    "    bugYPos[t] = b.ypos\n",
    "\n",
    "# Plotting the simulation\n",
    "plt.plot(0.0,0.0,\"ko\")\n",
    "plt.plot(killX, killY, \"ko\")\n",
    "plt.text(killX-0.5,killY+1.0, \"Bug Eaten\")\n",
    "plt.text(-0.5,1.0,\"Bat Cave\")\n",
    "plt.scatter(bugXPos, bugYPos,s=0.5,c=range(duration), cmap=\"summer\")\n",
    "plt.scatter(batXPos,batYPos,s=0.5, c=range(duration), cmap=\"Greys\")\n",
    "plt.show()"
   ]
  },
  {
   "cell_type": "markdown",
   "metadata": {
    "scrolled": false
   },
   "source": [
    "# Bat vs. Bug (One-on-Seven)\n",
    "### Testing Satisfaction"
   ]
  },
  {
   "cell_type": "code",
   "execution_count": 5,
   "metadata": {},
   "outputs": [
    {
     "data": {
      "image/png": "[encoded data removed]",
      "text/plain": [
       "<Figure size 432x288 with 1 Axes>"
      ]
     },
     "metadata": {
      "needs_background": "light"
     },
     "output_type": "display_data"
    }
   ],
   "source": [
    "# Initialize Agents\n",
    "a = Bat()\n",
    "bugs = []\n",
    "for i in range(7):\n",
    "    bugs.append(Bug())\n",
    "\n",
    "# Set Duration\n",
    "duration = 100000\n",
    "\n",
    "# Keep Track of Agents Position\n",
    "batXPos = np.zeros(duration)\n",
    "batYPos = np.zeros(duration)\n",
    "bug1XPos = np.zeros(duration)\n",
    "bug1YPos = np.zeros(duration)\n",
    "bug2XPos = np.zeros(duration)\n",
    "bug2YPos = np.zeros(duration)\n",
    "bug3XPos = np.zeros(duration)\n",
    "bug3YPos = np.zeros(duration)\n",
    "bug4XPos = np.zeros(duration)\n",
    "bug4YPos = np.zeros(duration)\n",
    "bug5XPos = np.zeros(duration)\n",
    "bug5YPos = np.zeros(duration)\n",
    "bug6XPos = np.zeros(duration)\n",
    "bug6YPos = np.zeros(duration)\n",
    "bug7XPos = np.zeros(duration)\n",
    "bug7YPos = np.zeros(duration)\n",
    "\n",
    "# Keep Track of Kills\n",
    "killsX = np.zeros(5)\n",
    "killsY = np.zeros(5)\n",
    "\n",
    "# Keep Track of How Many Bugs Bat has Killed\n",
    "bugsKilled = 0\n",
    "\n",
    "# Run Simulation\n",
    "for t in range(duration):\n",
    "    a.echoLocate(bugs[bugsKilled])\n",
    "    a.setFlight()\n",
    "    a.move()\n",
    "    # Implement Bug Killing\n",
    "    if a.distance(bugs[bugsKilled]) < 0.5:\n",
    "        a.eatBug(bugs[bugsKilled])\n",
    "        killsX[bugsKilled] = a.xpos\n",
    "        killsY[bugsKilled] = a.ypos\n",
    "        # Denotes if the bat is satisfied and can return home\n",
    "        if bugsKilled >= 5:\n",
    "            a.satisfied = True\n",
    "    # Update Bug Positions\n",
    "    for i in range(7):\n",
    "        bugs[i].setFlight()\n",
    "        bugs[i].move()\n",
    "    \n",
    "    # Track Bat Positon\n",
    "    batXPos[t] = a.xpos\n",
    "    batYPos[t] = a.ypos\n",
    "    # Track Bug(s) Position\n",
    "    # Yes, this is very sloppy\n",
    "    for i in range(7):\n",
    "        if i == 0:\n",
    "            bug1XPos[t] = bugs[i].xpos\n",
    "            bug1YPos[t] = bugs[i].ypos\n",
    "        elif i == 1:\n",
    "            bug2XPos[t] = bugs[i].xpos\n",
    "            bug2YPos[t] = bugs[i].ypos\n",
    "        elif i == 2:\n",
    "            bug3XPos[t] = bugs[i].xpos\n",
    "            bug3YPos[t] = bugs[i].ypos\n",
    "        elif i == 3:\n",
    "            bug4XPos[t] = bugs[i].xpos\n",
    "            bug4YPos[t] = bugs[i].ypos\n",
    "        elif i == 4:\n",
    "            bug5XPos[t] = bugs[i].xpos\n",
    "            bug5YPos[t] = bugs[i].ypos\n",
    "        elif i == 5:\n",
    "            bug6XPos[t] = bugs[i].xpos\n",
    "            bug6YPos[t] = bugs[i].ypos\n",
    "        elif i == 6:\n",
    "            bug7XPos[t] = bugs[i].xpos\n",
    "            bug7YPos[t] = bugs[i].ypos\n",
    "        # Just in case\n",
    "        else:\n",
    "            print(\"Error with Bugs Positions\")\n",
    "\n",
    "\n",
    "# Plot\n",
    "plt.plot(0.0,0.0,\"ko\")\n",
    "for i in range(5):\n",
    "    plt.plot(killsX[i], killsY[i], \"ko\")\n",
    "    plt.text(killsX[i]-0.5,killsY[i]+1.0, \"Bug Eaten\")\n",
    "plt.text(-0.5,1.0,\"Bat Cave\")\n",
    "\n",
    "# Plot Bugs\n",
    "plt.scatter(bug1XPos, bug1YPos,s=0.5,c=range(duration), cmap=\"summer\")\n",
    "plt.scatter(bug2XPos, bug2YPos,s=0.5,c=range(duration), cmap=\"summer\")\n",
    "plt.scatter(bug3XPos, bug3YPos,s=0.5,c=range(duration), cmap=\"summer\")\n",
    "plt.scatter(bug4XPos, bug4YPos,s=0.5,c=range(duration), cmap=\"summer\")\n",
    "plt.scatter(bug5XPos, bug5YPos,s=0.5,c=range(duration), cmap=\"summer\")\n",
    "plt.scatter(bug6XPos, bug6YPos,s=0.5,c=range(duration), cmap=\"summer\")\n",
    "plt.scatter(bug7XPos, bug7YPos,s=0.5,c=range(duration), cmap=\"summer\")\n",
    "\n",
    "# Plot Bat\n",
    "plt.scatter(batXPos,batYPos,s=0.5, c=range(duration), cmap=\"Greys\")\n",
    "plt.title(\"1v7 Simulation\")\n",
    "plt.show()"
   ]
  },
  {
   "cell_type": "code",
   "execution_count": 6,
   "metadata": {},
   "outputs": [
    {
     "name": "stdout",
     "output_type": "stream",
     "text": [
      "Is the bat satisfied: True\n",
      "Bat's X Position: -0.471811899310511\n",
      "Bat's Y Position: 0.014061123065954289\n",
      "The bat has returned home and is satisfied!\n"
     ]
    }
   ],
   "source": [
    "print(\"Is the bat satisfied: \" + str(a.satisfied))\n",
    "print(\"Bat's X Position: \" + str(a.xpos))\n",
    "print(\"Bat's Y Position: \" + str(a.ypos))\n",
    "\n",
    "if abs(a.xpos) < 1 and abs(a.ypos) < 1 and a.satisfied:\n",
    "    print(\"The bat has returned home and is satisfied!\")"
   ]
  },
  {
   "cell_type": "markdown",
   "metadata": {},
   "source": [
    "As we can see with the above two simulations, this system works well and the bat is satisfied and still returns home."
   ]
  }
 ],
 "metadata": {
  "kernelspec": {
   "display_name": "Python 3",
   "language": "python",
   "name": "python3"
  },
  "language_info": {
   "codemirror_mode": {
    "name": "ipython",
    "version": 3
   },
   "file_extension": ".py",
   "mimetype": "text/x-python",
   "name": "python",
   "nbconvert_exporter": "python",
   "pygments_lexer": "ipython3",
   "version": "3.8.5"
  }
 },
 "nbformat": 4,
 "nbformat_minor": 4
}
