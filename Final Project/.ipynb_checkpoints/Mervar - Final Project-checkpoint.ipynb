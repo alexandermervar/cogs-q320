{
 "cells": [
  {
   "cell_type": "markdown",
   "metadata": {},
   "source": [
    "# Lost in the Sauce of Bat Flight Patterns\n",
    "**Alexander Mervar**  \n",
    "**COGS-Q 320**  \n",
    "**Professor Izquierdo**"
   ]
  },
  {
   "cell_type": "markdown",
   "metadata": {},
   "source": [
    "This project looks to simulate bat flight patterns in an artistic way. Initial inspiration from [episode 432](https://99percentinvisible.org/episode/the-batman-and-the-bridge-builder/) of [99% Invisible](https://99percentinvisible.org)."
   ]
  },
  {
   "cell_type": "markdown",
   "metadata": {},
   "source": [
    "Definition of Bat Class 1.0"
   ]
  },
  {
   "cell_type": "markdown",
   "metadata": {},
   "source": [
    "**NOTE:** This class is extremely similar to Braitenberg vehicles due to the fact that my objective is not too far off (at this current stage) from the objective of braitenberg vehicles. Bats havce two sensors (ears) and two motors (their wings). Therefore, I need to rewrite the class to fit that need and upon completion of the bat creation, I need to rewrite the Light (originally from Braitenberg vehicles work) to have it's own motivation and movement in order to simulate an insect."
   ]
  },
  {
   "cell_type": "code",
   "execution_count": null,
   "metadata": {},
   "outputs": [],
   "source": [
    "class Bat:\n",
    "\n",
    "    def __init__(self):\n",
    "        \n",
    "        self.xpos = 0.0                                       # bat's x position, starts in middle of world\n",
    "        self.ypos = 0.0                                       # bat's y position, starts in middle of world\n",
    "        self.orientation = np.random.random()*2*np.pi         # bat's orientation, starts at random\n",
    "        self.velocity = 0.0                                   # bat's velocity, starts at 0\n",
    "        self.radius = 1.0                                     # the size/radius of the bat\n",
    "        self.leftear = 0.0                                    # left ear value\n",
    "        self.rightear = 0.0                                   # right ear value\n",
    "        self.leftwing  = 1.0                                  # left wing output\n",
    "        self.rightwing = 1.0                                  # right wing output\n",
    "        \n",
    "        # Attributes to determine the placement of the ears\n",
    "        self.angleoffset = np.pi/2                                                 # left/right ear angle offset\n",
    "        self.re_xpos = self.radius * np.cos(self.orientation + self.angleoffset)   # right ear x position\n",
    "        self.re_ypos = self.radius * np.sin(self.orientation + self.angleoffset)   # right ear y position\n",
    "        self.le_xpos = self.radius * np.cos(self.orientation - self.angleoffset)   # left ear x position\n",
    "        self.le_ypos = self.radius * np.sin(self.orientation - self.angleoffset)   # left ear y position\n",
    "\n",
    "    def echoLocate(self,light):\n",
    "        \n",
    "        # Calculate the distance of the insect for each of the sensors\n",
    "        self.leftear = 1 - np.sqrt((self.le_xpos-bug.x)**2 + (self.le_ypos-bug.y)**2)/10\n",
    "        self.leftear = np.clip(self.leftear,0,1)\n",
    "        self.rightear = 1 - np.sqrt((self.re_xpos-bug.x)**2 + (self.re_ypos-bug.y)**2)/10\n",
    "        self.rightear = np.clip(self.rightear,0,1)\n",
    "\n",
    "    def setFlight(self):\n",
    "        if self.rightear > .95 and self.leftear > .95:\n",
    "            #implement eat method\n",
    "        elif self.rightear > self.leftear:\n",
    "            self.rightwing = 0.25\n",
    "            self.leftwing = 0.5\n",
    "        elif self.leftear > self.rightear:\n",
    "            self.rightwing = 0.5\n",
    "            self.leftwing = 0.25\n",
    "        elif self.leftear == 0 and self.rightear == 0:\n",
    "            #implement return home method\n",
    "            \n",
    "    def eatBug(self):\n",
    "        #removes the closes object of the bug class\n",
    "        \n",
    "    def returnHome(self):\n",
    "        #send the bat back to it's intial position\n",
    "        \n",
    "    def move(self):\n",
    "        \n",
    "        # Update the orientation and velocity of the vehicle based on the left and right motors\n",
    "        self.rightwing = np.clip(self.rightwing,0,1)\n",
    "        self.leftwing  = np.clip(self.leftwing,0,1)\n",
    "        self.orientation += ((self.leftwing - self.rightwing)/10) + np.random.normal(0,0.1)\n",
    "        self.velocity = ((self.rightwing + self.leftwing)/2)/50\n",
    "        \n",
    "        # Update position of the agent\n",
    "        self.xpos += self.velocity * np.cos(self.orientation) \n",
    "        self.ypos += self.velocity * np.sin(self.orientation)  \n",
    "        \n",
    "        # Update position of the sensors\n",
    "        self.re_xpos = self.xpos + self.radius * np.cos(self.orientation + self.angleoffset)\n",
    "        self.re_ypos = self.ypos + self.radius * np.sin(self.orientation + self.angleoffset)\n",
    "        self.le_xpos = self.xpos + self.radius * np.cos(self.orientation - self.angleoffset)\n",
    "        self.le_ypos = self.ypos + self.radius * np.sin(self.orientation - self.angleoffset)\n",
    "\n",
    "    def distance(self,bug):\n",
    "        return np.sqrt((self.xpos-bug.x)**2 + (self.ypos-bug.y)**2)\n",
    "\n",
    "class Bug:  \n",
    "\n",
    "    def __init__(self):\n",
    "        \n",
    "        self.xpos = 0.0                                       # bug's x position, starts in middle of world\n",
    "        self.ypos = 0.0                                       # bug's y position, starts in middle of world\n",
    "        self.orientation = np.random.random()*2*np.pi         # bug's orientation, starts at random\n",
    "        self.velocity = 0.0                                   # bug's velocity, starts at 0\n",
    "        self.radius = 0.5                                     # the size/radius of the bug\n",
    "        self.leftwing = 0.0                                   # the strength of the left wing of the bug\n",
    "        self.rightwing = 0.0                                  # the strength of the right wing of the bug\n",
    "        \n",
    "    def setFlight(self):\n",
    "        "
   ]
  }
 ],
 "metadata": {
  "kernelspec": {
   "display_name": "Python 3",
   "language": "python",
   "name": "python3"
  },
  "language_info": {
   "codemirror_mode": {
    "name": "ipython",
    "version": 3
   },
   "file_extension": ".py",
   "mimetype": "text/x-python",
   "name": "python",
   "nbconvert_exporter": "python",
   "pygments_lexer": "ipython3",
   "version": "3.8.5"
  }
 },
 "nbformat": 4,
 "nbformat_minor": 4
}
