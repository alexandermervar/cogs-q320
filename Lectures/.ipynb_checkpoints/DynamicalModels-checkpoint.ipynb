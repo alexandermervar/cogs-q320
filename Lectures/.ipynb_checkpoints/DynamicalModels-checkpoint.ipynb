{
 "cells": [
  {
   "cell_type": "markdown",
   "metadata": {},
   "source": [
    "## Dynamical Models"
   ]
  },
  {
   "cell_type": "code",
   "execution_count": 1,
   "metadata": {},
   "outputs": [],
   "source": [
    "import numpy as np\n",
    "import matplotlib.pyplot as plt"
   ]
  },
  {
   "cell_type": "markdown",
   "metadata": {},
   "source": [
    "### Euler Method"
   ]
  },
  {
   "cell_type": "markdown",
   "metadata": {},
   "source": [
    "Numerically integrating dy/dt = y with the Euler Method"
   ]
  },
  {
   "cell_type": "code",
   "execution_count": 2,
   "metadata": {},
   "outputs": [
    {
     "data": {
      "image/png": "[encoded data removed]",
      "text/plain": [
       "<Figure size 432x288 with 1 Axes>"
      ]
     },
     "metadata": {
      "needs_background": "light"
     },
     "output_type": "display_data"
    }
   ],
   "source": [
    "def sim(dt,duration):\n",
    "    time = np.arange(0.0,duration+dt,dt)\n",
    "    y_hist = np.zeros(len(time))\n",
    "    y = 1\n",
    "    i = 0\n",
    "    for t in time:\n",
    "        y_hist[i] = y\n",
    "        y = y + dt * y      \n",
    "        i += 1\n",
    "    return time,y_hist\n",
    "\n",
    "\n",
    "timeA,y_histA = sim(0.5,3)\n",
    "timeB,y_histB = sim(0.1,3)\n",
    "timeC,y_histC = sim(0.01,3)\n",
    "\n",
    "# Visualize it\n",
    "plt.plot(timeA,y_histA,'bo-',label=\"dt=0.5\")\n",
    "plt.plot(timeB,y_histB,'ro-',label=\"dt=0.1\")\n",
    "plt.plot(timeC,y_histC,'go-',label=\"dt=0.01\")\n",
    "plt.legend()\n",
    "plt.xlabel(\"Time\")\n",
    "plt.ylabel(\"Number of rabbits\")\n",
    "plt.show()"
   ]
  },
  {
   "cell_type": "markdown",
   "metadata": {},
   "source": [
    " ### Lotka Volterra"
   ]
  },
  {
   "cell_type": "markdown",
   "metadata": {},
   "source": [
    "Class"
   ]
  },
  {
   "cell_type": "code",
   "execution_count": 3,
   "metadata": {},
   "outputs": [],
   "source": [
    "class LotkaVolterra():\n",
    "\n",
    "    def __init__(self,dt,a,b,c,d,x,y):\n",
    "        self.dt = dt\n",
    "        # Model Parameters\n",
    "        self.a = a  # alpha = reproduction rate of prey\n",
    "        self.b = b  # beta = mortality rate of predator per prey\n",
    "        self.c = c  # gamma = mortality rate of predator\n",
    "        self.d = d  # delta = reproduction rate of predator per prey\n",
    "        # Model Variables\n",
    "        self.x = x  # Starting value of prey (rabbits)\n",
    "        self.y = y  # Starting value of predator (foxes)\n",
    "    \n",
    "    def step(self):\n",
    "        dxdt = self.a * self.x - self.b * self.x * self.y    # Diff eq. 1\n",
    "        dydt = self.d * self.x * self.y - self.c * self.y    # Diff eq. 2       \n",
    "        self.x = self.x + self.dt * dxdt                            # Euler step\n",
    "        self.y = self.y + self.dt * dydt                            # Euler step        "
   ]
  },
  {
   "cell_type": "markdown",
   "metadata": {},
   "source": [
    "Visualize the results for different set of parameters"
   ]
  },
  {
   "cell_type": "code",
   "execution_count": 4,
   "metadata": {},
   "outputs": [],
   "source": [
    "a = 1.0     # alpha = reproduction rate of prey\n",
    "b = 0.1     # beta = mortality rate of predator per prey\n",
    "c = 0.4     # gamma = mortality rate of predator\n",
    "d = 0.02    # delta = reproduction rate of predator per prey\n",
    "\n",
    "x = 10      # Starting value of prey (rabbits)\n",
    "y = 10      # Starting value of predator (foxes)"
   ]
  },
  {
   "cell_type": "code",
   "execution_count": 9,
   "metadata": {},
   "outputs": [
    {
     "ename": "TypeError",
     "evalue": "'float' object cannot be interpreted as an integer",
     "output_type": "error",
     "traceback": [
      "\u001b[0;31m---------------------------------------------------------------------------\u001b[0m",
      "\u001b[0;31mTypeError\u001b[0m                                 Traceback (most recent call last)",
      "\u001b[0;32m<ipython-input-9-ac4205d2e4aa>\u001b[0m in \u001b[0;36m<module>\u001b[0;34m\u001b[0m\n\u001b[1;32m      7\u001b[0m \u001b[0msimulation\u001b[0m \u001b[0;34m=\u001b[0m \u001b[0mLotkaVolterra\u001b[0m\u001b[0;34m(\u001b[0m\u001b[0;36m0.01\u001b[0m\u001b[0;34m,\u001b[0m \u001b[0ma\u001b[0m\u001b[0;34m,\u001b[0m \u001b[0mb\u001b[0m\u001b[0;34m,\u001b[0m \u001b[0mc\u001b[0m\u001b[0;34m,\u001b[0m \u001b[0md\u001b[0m\u001b[0;34m,\u001b[0m \u001b[0mx\u001b[0m\u001b[0;34m,\u001b[0m \u001b[0my\u001b[0m\u001b[0;34m)\u001b[0m\u001b[0;34m\u001b[0m\u001b[0;34m\u001b[0m\u001b[0m\n\u001b[1;32m      8\u001b[0m \u001b[0;34m\u001b[0m\u001b[0m\n\u001b[0;32m----> 9\u001b[0;31m \u001b[0;32mfor\u001b[0m \u001b[0mi\u001b[0m \u001b[0;32min\u001b[0m \u001b[0mrange\u001b[0m\u001b[0;34m(\u001b[0m\u001b[0mdur\u001b[0m\u001b[0;34m,\u001b[0m \u001b[0;36m0.01\u001b[0m\u001b[0;34m)\u001b[0m\u001b[0;34m:\u001b[0m\u001b[0;34m\u001b[0m\u001b[0;34m\u001b[0m\u001b[0m\n\u001b[0m\u001b[1;32m     10\u001b[0m     \u001b[0mfoxes\u001b[0m\u001b[0;34m[\u001b[0m\u001b[0mi\u001b[0m\u001b[0;34m]\u001b[0m \u001b[0;34m=\u001b[0m \u001b[0msimulation\u001b[0m\u001b[0;34m.\u001b[0m\u001b[0my\u001b[0m\u001b[0;34m\u001b[0m\u001b[0;34m\u001b[0m\u001b[0m\n\u001b[1;32m     11\u001b[0m     \u001b[0mrabbits\u001b[0m\u001b[0;34m[\u001b[0m\u001b[0mi\u001b[0m\u001b[0;34m]\u001b[0m \u001b[0;34m=\u001b[0m \u001b[0msimulation\u001b[0m\u001b[0;34m.\u001b[0m\u001b[0mx\u001b[0m\u001b[0;34m\u001b[0m\u001b[0;34m\u001b[0m\u001b[0m\n",
      "\u001b[0;31mTypeError\u001b[0m: 'float' object cannot be interpreted as an integer"
     ]
    }
   ],
   "source": [
    "dur = 50\n",
    "\n",
    "\n",
    "foxes = np.zeros(5000)\n",
    "rabbits = np.zeros(5000)\n",
    "\n",
    "simulation = LotkaVolterra(0.01, a, b, c, d, x, y)\n",
    "\n",
    "for i in range(dur, 0.01):\n",
    "    foxes[i] = simulation.y\n",
    "    rabbits[i] = simulation.x\n",
    "    simulation.step()\n",
    "    \n",
    "print(foxes)\n",
    "print(rabbits)"
   ]
  },
  {
   "cell_type": "markdown",
   "metadata": {},
   "source": [
    "### CTRNN"
   ]
  },
  {
   "cell_type": "code",
   "execution_count": null,
   "metadata": {},
   "outputs": [],
   "source": []
  }
 ],
 "metadata": {
  "kernelspec": {
   "display_name": "Python 3",
   "language": "python",
   "name": "python3"
  },
  "language_info": {
   "codemirror_mode": {
    "name": "ipython",
    "version": 3
   },
   "file_extension": ".py",
   "mimetype": "text/x-python",
   "name": "python",
   "nbconvert_exporter": "python",
   "pygments_lexer": "ipython3",
   "version": "3.8.5"
  }
 },
 "nbformat": 4,
 "nbformat_minor": 4
}
